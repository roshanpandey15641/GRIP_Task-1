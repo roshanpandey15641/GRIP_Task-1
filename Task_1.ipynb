{
  "nbformat": 4,
  "nbformat_minor": 0,
  "metadata": {
    "colab": {
      "name": "Task-:1.ipynb",
      "provenance": []
    },
    "kernelspec": {
      "name": "python3",
      "display_name": "Python 3"
    },
    "language_info": {
      "name": "python"
    }
  },
  "cells": [
    {
      "cell_type": "markdown",
      "metadata": {
        "id": "WpuujLun5CGg"
      },
      "source": [
        "![unnamed.png](data:image/png;base64,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)"
      ]
    },
    {
      "cell_type": "markdown",
      "metadata": {
        "id": "hIfDyZdU5xyV"
      },
      "source": [
        "GRIP @ The Sparks Foundation"
      ]
    },
    {
      "cell_type": "markdown",
      "metadata": {
        "id": "jb8xhxAx5-c9"
      },
      "source": [
        "Data Science And Business Analytics Internship May-2021"
      ]
    },
    {
      "cell_type": "markdown",
      "metadata": {
        "id": "wMf-WozT7A9n"
      },
      "source": [
        " Task-1 Predict the percentage of a student based on the no of study hours"
      ]
    },
    {
      "cell_type": "code",
      "metadata": {
        "id": "sZ9NXoxM66fH"
      },
      "source": [
        "#import library\n",
        "from google.colab import files\n",
        "import numpy as np\n",
        "import pandas as pd\n",
        "import matplotlib.pyplot as plt\n",
        "import seaborn as sns\n",
        "from sklearn.model_selection import train_test_split\n",
        "from sklearn.preprocessing import StandardScaler\n",
        "from sklearn.linear_model import LinearRegression\n",
        "from sklearn.metrics import mean_squared_error\n",
        "from sklearn.metrics import r2_score\n",
        "\n"
      ],
      "execution_count": null,
      "outputs": []
    },
    {
      "cell_type": "code",
      "metadata": {
        "colab": {
          "resources": {
            "http://localhost:8080/nbextensions/google.colab/files.js": {
              "data": "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",
              "ok": true,
              "headers": [
                [
                  "content-type",
                  "application/javascript"
                ]
              ],
              "status": 200,
              "status_text": ""
            }
          },
          "base_uri": "https://localhost:8080/",
          "height": 73
        },
        "id": "5JvqWOQW7_1G",
        "outputId": "97a77b8e-1eac-4efe-996b-74910bac8900"
      },
      "source": [
        "upload = files.upload()#load data on colab from local system"
      ],
      "execution_count": null,
      "outputs": [
        {
          "output_type": "display_data",
          "data": {
            "text/html": [
              "\n",
              "     <input type=\"file\" id=\"files-524025dd-ee45-4a3d-aa58-21c9c48eef55\" name=\"files[]\" multiple disabled\n",
              "        style=\"border:none\" />\n",
              "     <output id=\"result-524025dd-ee45-4a3d-aa58-21c9c48eef55\">\n",
              "      Upload widget is only available when the cell has been executed in the\n",
              "      current browser session. Please rerun this cell to enable.\n",
              "      </output>\n",
              "      <script src=\"/nbextensions/google.colab/files.js\"></script> "
            ],
            "text/plain": [
              "<IPython.core.display.HTML object>"
            ]
          },
          "metadata": {
            "tags": []
          }
        },
        {
          "output_type": "stream",
          "text": [
            "Saving student_scores - student_scores.csv to student_scores - student_scores (2).csv\n"
          ],
          "name": "stdout"
        }
      ]
    },
    {
      "cell_type": "code",
      "metadata": {
        "colab": {
          "base_uri": "https://localhost:8080/",
          "height": 202
        },
        "id": "9OSO2cH_8Yy0",
        "outputId": "92a39bb2-43bb-4505-e9ce-39a3004515c9"
      },
      "source": [
        "#read data set\n",
        "df = pd.read_csv(\"student_scores - student_scores.csv\")\n",
        "df.head()"
      ],
      "execution_count": null,
      "outputs": [
        {
          "output_type": "execute_result",
          "data": {
            "text/html": [
              "<div>\n",
              "<style scoped>\n",
              "    .dataframe tbody tr th:only-of-type {\n",
              "        vertical-align: middle;\n",
              "    }\n",
              "\n",
              "    .dataframe tbody tr th {\n",
              "        vertical-align: top;\n",
              "    }\n",
              "\n",
              "    .dataframe thead th {\n",
              "        text-align: right;\n",
              "    }\n",
              "</style>\n",
              "<table border=\"1\" class=\"dataframe\">\n",
              "  <thead>\n",
              "    <tr style=\"text-align: right;\">\n",
              "      <th></th>\n",
              "      <th>Hours</th>\n",
              "      <th>Scores</th>\n",
              "    </tr>\n",
              "  </thead>\n",
              "  <tbody>\n",
              "    <tr>\n",
              "      <th>0</th>\n",
              "      <td>2.5</td>\n",
              "      <td>21</td>\n",
              "    </tr>\n",
              "    <tr>\n",
              "      <th>1</th>\n",
              "      <td>5.1</td>\n",
              "      <td>47</td>\n",
              "    </tr>\n",
              "    <tr>\n",
              "      <th>2</th>\n",
              "      <td>3.2</td>\n",
              "      <td>27</td>\n",
              "    </tr>\n",
              "    <tr>\n",
              "      <th>3</th>\n",
              "      <td>8.5</td>\n",
              "      <td>75</td>\n",
              "    </tr>\n",
              "    <tr>\n",
              "      <th>4</th>\n",
              "      <td>3.5</td>\n",
              "      <td>30</td>\n",
              "    </tr>\n",
              "  </tbody>\n",
              "</table>\n",
              "</div>"
            ],
            "text/plain": [
              "   Hours  Scores\n",
              "0    2.5      21\n",
              "1    5.1      47\n",
              "2    3.2      27\n",
              "3    8.5      75\n",
              "4    3.5      30"
            ]
          },
          "metadata": {
            "tags": []
          },
          "execution_count": 3
        }
      ]
    },
    {
      "cell_type": "code",
      "metadata": {
        "colab": {
          "base_uri": "https://localhost:8080/"
        },
        "id": "ULcORrlX8Svb",
        "outputId": "fba0e075-3047-4269-8b86-d5a1ecb6a613"
      },
      "source": [
        "df.shape"
      ],
      "execution_count": null,
      "outputs": [
        {
          "output_type": "execute_result",
          "data": {
            "text/plain": [
              "(25, 2)"
            ]
          },
          "metadata": {
            "tags": []
          },
          "execution_count": 4
        }
      ]
    },
    {
      "cell_type": "code",
      "metadata": {
        "colab": {
          "base_uri": "https://localhost:8080/"
        },
        "id": "X35yWkGA8tIY",
        "outputId": "95847f9a-5a81-4c92-f197-175362093c13"
      },
      "source": [
        "df.info()"
      ],
      "execution_count": null,
      "outputs": [
        {
          "output_type": "stream",
          "text": [
            "<class 'pandas.core.frame.DataFrame'>\n",
            "RangeIndex: 25 entries, 0 to 24\n",
            "Data columns (total 2 columns):\n",
            " #   Column  Non-Null Count  Dtype  \n",
            "---  ------  --------------  -----  \n",
            " 0   Hours   25 non-null     float64\n",
            " 1   Scores  25 non-null     int64  \n",
            "dtypes: float64(1), int64(1)\n",
            "memory usage: 528.0 bytes\n"
          ],
          "name": "stdout"
        }
      ]
    },
    {
      "cell_type": "code",
      "metadata": {
        "colab": {
          "base_uri": "https://localhost:8080/"
        },
        "id": "yNZBqq5D9Ylr",
        "outputId": "d4ed3b98-b7e3-4ab8-cb85-6b8ca0d8d450"
      },
      "source": [
        "df.nunique()"
      ],
      "execution_count": null,
      "outputs": [
        {
          "output_type": "execute_result",
          "data": {
            "text/plain": [
              "Hours     23\n",
              "Scores    23\n",
              "dtype: int64"
            ]
          },
          "metadata": {
            "tags": []
          },
          "execution_count": 6
        }
      ]
    },
    {
      "cell_type": "code",
      "metadata": {
        "colab": {
          "base_uri": "https://localhost:8080/",
          "height": 294
        },
        "id": "0WOBT-Gs-A26",
        "outputId": "7004e318-641b-4f4c-b3d9-5a5c2b998cfc"
      },
      "source": [
        "df.describe()"
      ],
      "execution_count": null,
      "outputs": [
        {
          "output_type": "execute_result",
          "data": {
            "text/html": [
              "<div>\n",
              "<style scoped>\n",
              "    .dataframe tbody tr th:only-of-type {\n",
              "        vertical-align: middle;\n",
              "    }\n",
              "\n",
              "    .dataframe tbody tr th {\n",
              "        vertical-align: top;\n",
              "    }\n",
              "\n",
              "    .dataframe thead th {\n",
              "        text-align: right;\n",
              "    }\n",
              "</style>\n",
              "<table border=\"1\" class=\"dataframe\">\n",
              "  <thead>\n",
              "    <tr style=\"text-align: right;\">\n",
              "      <th></th>\n",
              "      <th>Hours</th>\n",
              "      <th>Scores</th>\n",
              "    </tr>\n",
              "  </thead>\n",
              "  <tbody>\n",
              "    <tr>\n",
              "      <th>count</th>\n",
              "      <td>25.000000</td>\n",
              "      <td>25.000000</td>\n",
              "    </tr>\n",
              "    <tr>\n",
              "      <th>mean</th>\n",
              "      <td>5.012000</td>\n",
              "      <td>51.480000</td>\n",
              "    </tr>\n",
              "    <tr>\n",
              "      <th>std</th>\n",
              "      <td>2.525094</td>\n",
              "      <td>25.286887</td>\n",
              "    </tr>\n",
              "    <tr>\n",
              "      <th>min</th>\n",
              "      <td>1.100000</td>\n",
              "      <td>17.000000</td>\n",
              "    </tr>\n",
              "    <tr>\n",
              "      <th>25%</th>\n",
              "      <td>2.700000</td>\n",
              "      <td>30.000000</td>\n",
              "    </tr>\n",
              "    <tr>\n",
              "      <th>50%</th>\n",
              "      <td>4.800000</td>\n",
              "      <td>47.000000</td>\n",
              "    </tr>\n",
              "    <tr>\n",
              "      <th>75%</th>\n",
              "      <td>7.400000</td>\n",
              "      <td>75.000000</td>\n",
              "    </tr>\n",
              "    <tr>\n",
              "      <th>max</th>\n",
              "      <td>9.200000</td>\n",
              "      <td>95.000000</td>\n",
              "    </tr>\n",
              "  </tbody>\n",
              "</table>\n",
              "</div>"
            ],
            "text/plain": [
              "           Hours     Scores\n",
              "count  25.000000  25.000000\n",
              "mean    5.012000  51.480000\n",
              "std     2.525094  25.286887\n",
              "min     1.100000  17.000000\n",
              "25%     2.700000  30.000000\n",
              "50%     4.800000  47.000000\n",
              "75%     7.400000  75.000000\n",
              "max     9.200000  95.000000"
            ]
          },
          "metadata": {
            "tags": []
          },
          "execution_count": 7
        }
      ]
    },
    {
      "cell_type": "code",
      "metadata": {
        "colab": {
          "base_uri": "https://localhost:8080/",
          "height": 110
        },
        "id": "Yz8jIJTs-DPy",
        "outputId": "3460f035-1732-420a-f7ea-829a3e04b3b6"
      },
      "source": [
        "df.corr()"
      ],
      "execution_count": null,
      "outputs": [
        {
          "output_type": "execute_result",
          "data": {
            "text/html": [
              "<div>\n",
              "<style scoped>\n",
              "    .dataframe tbody tr th:only-of-type {\n",
              "        vertical-align: middle;\n",
              "    }\n",
              "\n",
              "    .dataframe tbody tr th {\n",
              "        vertical-align: top;\n",
              "    }\n",
              "\n",
              "    .dataframe thead th {\n",
              "        text-align: right;\n",
              "    }\n",
              "</style>\n",
              "<table border=\"1\" class=\"dataframe\">\n",
              "  <thead>\n",
              "    <tr style=\"text-align: right;\">\n",
              "      <th></th>\n",
              "      <th>Hours</th>\n",
              "      <th>Scores</th>\n",
              "    </tr>\n",
              "  </thead>\n",
              "  <tbody>\n",
              "    <tr>\n",
              "      <th>Hours</th>\n",
              "      <td>1.000000</td>\n",
              "      <td>0.976191</td>\n",
              "    </tr>\n",
              "    <tr>\n",
              "      <th>Scores</th>\n",
              "      <td>0.976191</td>\n",
              "      <td>1.000000</td>\n",
              "    </tr>\n",
              "  </tbody>\n",
              "</table>\n",
              "</div>"
            ],
            "text/plain": [
              "           Hours    Scores\n",
              "Hours   1.000000  0.976191\n",
              "Scores  0.976191  1.000000"
            ]
          },
          "metadata": {
            "tags": []
          },
          "execution_count": 8
        }
      ]
    },
    {
      "cell_type": "code",
      "metadata": {
        "colab": {
          "base_uri": "https://localhost:8080/"
        },
        "id": "rIsLAlDE-qeb",
        "outputId": "a87b73bf-d54c-477f-dcc8-81c16402da6a"
      },
      "source": [
        "#checking missing value\n",
        "df.isnull().sum()"
      ],
      "execution_count": null,
      "outputs": [
        {
          "output_type": "execute_result",
          "data": {
            "text/plain": [
              "Hours     0\n",
              "Scores    0\n",
              "dtype: int64"
            ]
          },
          "metadata": {
            "tags": []
          },
          "execution_count": 9
        }
      ]
    },
    {
      "cell_type": "code",
      "metadata": {
        "colab": {
          "base_uri": "https://localhost:8080/",
          "height": 287
        },
        "id": "qV6vBMw--zeM",
        "outputId": "cd4072c5-123d-4fba-8daa-bc45383b565d"
      },
      "source": [
        "sns.heatmap(df.isnull())"
      ],
      "execution_count": null,
      "outputs": [
        {
          "output_type": "execute_result",
          "data": {
            "text/plain": [
              "<matplotlib.axes._subplots.AxesSubplot at 0x7fd00ce80250>"
            ]
          },
          "metadata": {
            "tags": []
          },
          "execution_count": 10
        },
        {
          "output_type": "display_data",
          "data": {
            "image/png": "[encoded data removed]",
            "text/plain": [
              "<Figure size 432x288 with 2 Axes>"
            ]
          },
          "metadata": {
            "tags": [],
            "needs_background": "light"
          }
        }
      ]
    },
    {
      "cell_type": "code",
      "metadata": {
        "id": "11zEdbZ5_AIk"
      },
      "source": [
        ""
      ],
      "execution_count": null,
      "outputs": []
    },
    {
      "cell_type": "markdown",
      "metadata": {
        "id": "OIptB3kcAYLa"
      },
      "source": [
        "Data Visualization"
      ]
    },
    {
      "cell_type": "code",
      "metadata": {
        "colab": {
          "base_uri": "https://localhost:8080/",
          "height": 313
        },
        "id": "bwl06B4xAnP5",
        "outputId": "fd66eb0c-ec54-4573-81cb-a7259e7b1477"
      },
      "source": [
        "plt.scatter(x=df['Hours'],y=df['Scores'],c='r',s=100)\n",
        "plt.title(\"Scatter plot of data set\")\n",
        "plt.xlabel(\"Hours\")\n",
        "plt.ylabel(\"Scores\")"
      ],
      "execution_count": null,
      "outputs": [
        {
          "output_type": "execute_result",
          "data": {
            "text/plain": [
              "Text(0, 0.5, 'Scores')"
            ]
          },
          "metadata": {
            "tags": []
          },
          "execution_count": 11
        },
        {
          "output_type": "display_data",
          "data": {
            "image/png": "[encoded data removed]",
            "text/plain": [
              "<Figure size 432x288 with 1 Axes>"
            ]
          },
          "metadata": {
            "tags": [],
            "needs_background": "light"
          }
        }
      ]
    },
    {
      "cell_type": "code",
      "metadata": {
        "colab": {
          "base_uri": "https://localhost:8080/",
          "height": 279
        },
        "id": "cSgVC2qTIxca",
        "outputId": "fd520549-0e65-49db-97d1-61c39d16f88d"
      },
      "source": [
        "sns.lineplot(x=df['Hours'],y=df['Scores'],data=df)\n",
        "plt.show()"
      ],
      "execution_count": null,
      "outputs": [
        {
          "output_type": "display_data",
          "data": {
            "image/png": "[encoded data removed]",
            "text/plain": [
              "<Figure size 432x288 with 1 Axes>"
            ]
          },
          "metadata": {
            "tags": [],
            "needs_background": "light"
          }
        }
      ]
    },
    {
      "cell_type": "code",
      "metadata": {
        "id": "VO7ZACAyMKjK"
      },
      "source": [
        "#split data\n",
        "x= df.drop('Scores',axis=1)\n",
        "y=df['Scores']"
      ],
      "execution_count": null,
      "outputs": []
    },
    {
      "cell_type": "code",
      "metadata": {
        "colab": {
          "base_uri": "https://localhost:8080/"
        },
        "id": "2M0J35-uMicb",
        "outputId": "0c7651b9-e053-4a2a-b3fc-01ab93a08d2e"
      },
      "source": [
        "x.shape"
      ],
      "execution_count": null,
      "outputs": [
        {
          "output_type": "execute_result",
          "data": {
            "text/plain": [
              "(25, 1)"
            ]
          },
          "metadata": {
            "tags": []
          },
          "execution_count": 14
        }
      ]
    },
    {
      "cell_type": "code",
      "metadata": {
        "colab": {
          "base_uri": "https://localhost:8080/"
        },
        "id": "hJ6zpC6QMlco",
        "outputId": "414ab374-f566-47dd-f508-9127adabce1f"
      },
      "source": [
        "y.shape"
      ],
      "execution_count": null,
      "outputs": [
        {
          "output_type": "execute_result",
          "data": {
            "text/plain": [
              "(25,)"
            ]
          },
          "metadata": {
            "tags": []
          },
          "execution_count": 15
        }
      ]
    },
    {
      "cell_type": "code",
      "metadata": {
        "id": "rff-aNMiMndd"
      },
      "source": [
        "\n",
        "#split data\n",
        "from sklearn.model_selection import train_test_split\n",
        "X_train,X_test,y_train,y_test = train_test_split(x,y,test_size=0.2,random_state=0)"
      ],
      "execution_count": null,
      "outputs": []
    },
    {
      "cell_type": "markdown",
      "metadata": {
        "id": "LpygpRe4Suwo"
      },
      "source": [
        "Linear Regression - ML Model Training"
      ]
    },
    {
      "cell_type": "code",
      "metadata": {
        "colab": {
          "base_uri": "https://localhost:8080/"
        },
        "id": "GQvbOhfrS46Z",
        "outputId": "3b853f88-03a6-4de3-f732-36285369f01c"
      },
      "source": [
        "from sklearn.linear_model import LinearRegression\n",
        "lr = LinearRegression()\n",
        "lr.fit(X_train,y_train)"
      ],
      "execution_count": null,
      "outputs": [
        {
          "output_type": "execute_result",
          "data": {
            "text/plain": [
              "LinearRegression(copy_X=True, fit_intercept=True, n_jobs=None, normalize=False)"
            ]
          },
          "metadata": {
            "tags": []
          },
          "execution_count": 18
        }
      ]
    },
    {
      "cell_type": "code",
      "metadata": {
        "colab": {
          "base_uri": "https://localhost:8080/"
        },
        "id": "rApDdkTMS7xW",
        "outputId": "5b1e754f-e3ce-49bd-8e4e-39a413577ad1"
      },
      "source": [
        "lr.coef_"
      ],
      "execution_count": null,
      "outputs": [
        {
          "output_type": "execute_result",
          "data": {
            "text/plain": [
              "array([9.91065648])"
            ]
          },
          "metadata": {
            "tags": []
          },
          "execution_count": 19
        }
      ]
    },
    {
      "cell_type": "code",
      "metadata": {
        "colab": {
          "base_uri": "https://localhost:8080/"
        },
        "id": "55kFsSbSTHti",
        "outputId": "61135823-f8ad-417a-8484-261e73b94460"
      },
      "source": [
        "lr.intercept_"
      ],
      "execution_count": null,
      "outputs": [
        {
          "output_type": "execute_result",
          "data": {
            "text/plain": [
              "2.018160041434662"
            ]
          },
          "metadata": {
            "tags": []
          },
          "execution_count": 20
        }
      ]
    },
    {
      "cell_type": "markdown",
      "metadata": {
        "id": "AXZhaN-IUCpq"
      },
      "source": [
        "Prediction"
      ]
    },
    {
      "cell_type": "code",
      "metadata": {
        "colab": {
          "base_uri": "https://localhost:8080/"
        },
        "id": "QwyLk5bJUFSW",
        "outputId": "178e845f-0830-4c06-d0a3-c2f39d3abd86"
      },
      "source": [
        "y_pred = lr.predict(X_test)\n",
        "y_pred"
      ],
      "execution_count": null,
      "outputs": [
        {
          "output_type": "execute_result",
          "data": {
            "text/plain": [
              "array([16.88414476, 33.73226078, 75.357018  , 26.79480124, 60.49103328])"
            ]
          },
          "metadata": {
            "tags": []
          },
          "execution_count": 21
        }
      ]
    },
    {
      "cell_type": "code",
      "metadata": {
        "colab": {
          "base_uri": "https://localhost:8080/"
        },
        "id": "psIke0qIUNWr",
        "outputId": "1eea438a-f0df-4127-fb5c-37b8447bc869"
      },
      "source": [
        "y_test"
      ],
      "execution_count": null,
      "outputs": [
        {
          "output_type": "execute_result",
          "data": {
            "text/plain": [
              "5     20\n",
              "2     27\n",
              "19    69\n",
              "16    30\n",
              "11    62\n",
              "Name: Scores, dtype: int64"
            ]
          },
          "metadata": {
            "tags": []
          },
          "execution_count": 22
        }
      ]
    },
    {
      "cell_type": "markdown",
      "metadata": {
        "id": "vtFDgHeMUaIa"
      },
      "source": [
        "Scores"
      ]
    },
    {
      "cell_type": "code",
      "metadata": {
        "colab": {
          "base_uri": "https://localhost:8080/",
          "height": 202
        },
        "id": "9xvZPmxZ4UFa",
        "outputId": "c88eda75-30b1-4ef2-8388-92a8da71c2fb"
      },
      "source": [
        "df = pd.DataFrame({'actual':y_test,'predicted':y_pred})\n",
        "df"
      ],
      "execution_count": null,
      "outputs": [
        {
          "output_type": "execute_result",
          "data": {
            "text/html": [
              "<div>\n",
              "<style scoped>\n",
              "    .dataframe tbody tr th:only-of-type {\n",
              "        vertical-align: middle;\n",
              "    }\n",
              "\n",
              "    .dataframe tbody tr th {\n",
              "        vertical-align: top;\n",
              "    }\n",
              "\n",
              "    .dataframe thead th {\n",
              "        text-align: right;\n",
              "    }\n",
              "</style>\n",
              "<table border=\"1\" class=\"dataframe\">\n",
              "  <thead>\n",
              "    <tr style=\"text-align: right;\">\n",
              "      <th></th>\n",
              "      <th>actual</th>\n",
              "      <th>predicted</th>\n",
              "    </tr>\n",
              "  </thead>\n",
              "  <tbody>\n",
              "    <tr>\n",
              "      <th>5</th>\n",
              "      <td>20</td>\n",
              "      <td>16.884145</td>\n",
              "    </tr>\n",
              "    <tr>\n",
              "      <th>2</th>\n",
              "      <td>27</td>\n",
              "      <td>33.732261</td>\n",
              "    </tr>\n",
              "    <tr>\n",
              "      <th>19</th>\n",
              "      <td>69</td>\n",
              "      <td>75.357018</td>\n",
              "    </tr>\n",
              "    <tr>\n",
              "      <th>16</th>\n",
              "      <td>30</td>\n",
              "      <td>26.794801</td>\n",
              "    </tr>\n",
              "    <tr>\n",
              "      <th>11</th>\n",
              "      <td>62</td>\n",
              "      <td>60.491033</td>\n",
              "    </tr>\n",
              "  </tbody>\n",
              "</table>\n",
              "</div>"
            ],
            "text/plain": [
              "    actual  predicted\n",
              "5       20  16.884145\n",
              "2       27  33.732261\n",
              "19      69  75.357018\n",
              "16      30  26.794801\n",
              "11      62  60.491033"
            ]
          },
          "metadata": {
            "tags": []
          },
          "execution_count": 23
        }
      ]
    },
    {
      "cell_type": "code",
      "metadata": {
        "colab": {
          "base_uri": "https://localhost:8080/"
        },
        "id": "KB33iAteUd8B",
        "outputId": "8da986bb-096b-45da-eb96-61b782095d0c"
      },
      "source": [
        "lr.score(X_test,y_test)#score"
      ],
      "execution_count": null,
      "outputs": [
        {
          "output_type": "execute_result",
          "data": {
            "text/plain": [
              "0.9454906892105354"
            ]
          },
          "metadata": {
            "tags": []
          },
          "execution_count": 24
        }
      ]
    },
    {
      "cell_type": "markdown",
      "metadata": {
        "id": "TwEBVTFVYJ_b"
      },
      "source": [
        "mean_squared_error"
      ]
    },
    {
      "cell_type": "code",
      "metadata": {
        "colab": {
          "base_uri": "https://localhost:8080/"
        },
        "id": "vQjdKYHOYLRs",
        "outputId": "d2aa09af-564c-4355-d1d4-5fffce89f887"
      },
      "source": [
        "mse = mean_squared_error(y_test,y_pred)\n",
        "rmse = np.sqrt(mse)\n",
        "print(\"mse\",mse)\n",
        "print(\"rmse\",rmse)"
      ],
      "execution_count": null,
      "outputs": [
        {
          "output_type": "stream",
          "text": [
            "mse 21.598769307217456\n",
            "rmse 4.647447612100373\n"
          ],
          "name": "stdout"
        }
      ]
    },
    {
      "cell_type": "markdown",
      "metadata": {
        "id": "mxq34Q73ZUSq"
      },
      "source": [
        "R2_score"
      ]
    },
    {
      "cell_type": "code",
      "metadata": {
        "colab": {
          "base_uri": "https://localhost:8080/"
        },
        "id": "ovTTbFiAZXbj",
        "outputId": "e3d0e17e-5ffb-4f1a-b993-2467004ddb13"
      },
      "source": [
        "r2_score(y_test,y_pred)"
      ],
      "execution_count": null,
      "outputs": [
        {
          "output_type": "execute_result",
          "data": {
            "text/plain": [
              "0.9454906892105354"
            ]
          },
          "metadata": {
            "tags": []
          },
          "execution_count": 26
        }
      ]
    },
    {
      "cell_type": "code",
      "metadata": {
        "colab": {
          "base_uri": "https://localhost:8080/"
        },
        "id": "MsmkGNPK5Jv1",
        "outputId": "5e59486e-31dc-41e4-b68a-84355672cc8c"
      },
      "source": [
        "hours = 9.25\n",
        "hor_pred = lr.predict([[hours]])\n",
        "hor_pred"
      ],
      "execution_count": null,
      "outputs": [
        {
          "output_type": "execute_result",
          "data": {
            "text/plain": [
              "array([93.69173249])"
            ]
          },
          "metadata": {
            "tags": []
          },
          "execution_count": 27
        }
      ]
    },
    {
      "cell_type": "code",
      "metadata": {
        "id": "dYAu-g3y5oFO"
      },
      "source": [
        ""
      ],
      "execution_count": null,
      "outputs": []
    }
  ]
}